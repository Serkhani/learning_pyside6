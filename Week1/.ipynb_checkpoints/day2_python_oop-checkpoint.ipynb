{
 "cells": [
  {
   "cell_type": "markdown",
   "id": "3cf66d57",
   "metadata": {},
   "source": [
    "## Day 2: Getting Started with OOP\n",
    "\n",
    "> ***Object-oriented programming*** is a programming paradigm that organizes code into objects, which are instances of classes. It focuses on modeling real-world entities as objects, encapsulating data and behavior, and facilitating code reusability and maintainability."
   ]
  },
  {
   "cell_type": "markdown",
   "id": "d92b62dc",
   "metadata": {},
   "source": [
    "### Classes and Objects:\n",
    "> In Python, a class is defined using the ***`class`*** keyword. It serves as a blueprint for creating objects. An ***`object`*** is an instance of a class and represents a specific entity. Here's an example of a simple class and object:"
   ]
  },
  {
   "cell_type": "markdown",
   "id": "2bbb4cb0",
   "metadata": {},
   "source": [
    "``` python\n",
    "class MyClass:\n",
    "    def __init__(self, name):\n",
    "        self.name = name\n",
    "\n",
    "    def greet(self):\n",
    "        print(f\"Hello, {self.name}!\")\n",
    "\n",
    "obj = MyClass(\"Alice\")\n",
    "obj.greet()  # Output: Hello, Alice!\n",
    "```"
   ]
  },
  {
   "cell_type": "markdown",
   "id": "ed65a79d",
   "metadata": {},
   "source": [
    "### Class Constructors:\n",
    "The ***`__init__`*** method is a special method called a constructor. It is executed when an object is created from the class. It initializes the object's attributes. The self parameter refers to the instance of the object being created."
   ]
  },
  {
   "cell_type": "markdown",
   "id": "dc8afd23",
   "metadata": {},
   "source": [
    "### Class Attributes and Instance Attributes:\n",
    "***Class attributes*** are shared by all instances of a class, while instance attributes are specific to each object. They are defined within the class methods. ***Class attributes*** are accessed using the class name, and instance attributes are accessed using the self keyword."
   ]
  },
  {
   "cell_type": "markdown",
   "id": "8a433045",
   "metadata": {},
   "source": [
    "```python \n",
    "class Car:\n",
    "    wheels = 4  # Class attribute\n",
    "\n",
    "    def __init__(self, make, model):\n",
    "        self.make = make  # Instance attribute\n",
    "        self.model = model  # Instance attribute\n",
    "\n",
    "car1 = Car(\"Honda\", \"Civic\")\n",
    "print(car1.make)  # Output: Honda\n",
    "print(car1.wheels)  # Output: 4\n",
    "```"
   ]
  },
  {
   "cell_type": "markdown",
   "id": "9f0b76a0",
   "metadata": {},
   "source": [
    "### Class Methods:\n",
    "Class methods are defined within a class and operate on class attributes. They are decorated with the `@classmethod` [decorator](https://realpython.com/primer-on-python-decorators/) and receive the class itself as the first parameter, conventionally named `cls`."
   ]
  },
  {
   "cell_type": "markdown",
   "id": "f66221e5",
   "metadata": {},
   "source": [
    "``` python\n",
    "class Circle:\n",
    "    pi = 3.14159  # Class attribute\n",
    "\n",
    "    def __init__(self, radius):\n",
    "        self.radius = radius  # Instance attribute\n",
    "\n",
    "    def calculate_area(self):\n",
    "        return self.pi * (self.radius ** 2)\n",
    "\n",
    "    @classmethod\n",
    "    def print_pi(cls):\n",
    "        print(cls.pi)\n",
    "\n",
    "circle1 = Circle(5)\n",
    "print(circle1.calculate_area())  # Output: 78.53975\n",
    "Circle.print_pi()  # Output: 3.14159\n",
    "```"
   ]
  },
  {
   "cell_type": "markdown",
   "id": "91e171fb",
   "metadata": {},
   "source": [
    "### Inheritance:\n",
    "> ***Inheritance*** allows creating a new class (child class) based on an existing class (parent class). The child class inherits the attributes and methods of the parent class and can override or extend them. It promotes code reuse and supports the \"is-a\" relationship."
   ]
  },
  {
   "cell_type": "markdown",
   "id": "6259dd2c",
   "metadata": {},
   "source": [
    "``` python \n",
    "\n",
    "class Animal:\n",
    "    def __init__(self, name):\n",
    "        self.name = name\n",
    "\n",
    "    def speak(self):\n",
    "        print(\"Generic animal sound\")\n",
    "\n",
    "class Dog(Animal):\n",
    "    def speak(self):\n",
    "        print(\"Woof!\")\n",
    "\n",
    "animal1 = Animal(\"Animal\")\n",
    "animal1.speak()  # Output: Generic animal sound\n",
    "\n",
    "dog1 = Dog(\"Buddy\")\n",
    "dog1.speak()  # Output: Woof!\n",
    "```"
   ]
  },
  {
   "cell_type": "markdown",
   "id": "5ad4f9d0",
   "metadata": {},
   "source": [
    "### Encapsulation:\n",
    "> ***Encapsulation*** is the practice of hiding internal details of an object and exposing only essential methods and attributes. It is achieved by marking attributes as private using the __ (double underscore) prefix. Private attributes can be accessed and modified using getter and setter methods.\n"
   ]
  },
  {
   "cell_type": "markdown",
   "id": "0be20f45",
   "metadata": {},
   "source": [
    "``` python\n",
    "class Person:\n",
    "    def __init__(self, name):\n",
    "        self.__name = name  # Private attribute\n",
    "\n",
    "    def get_name(self):\n",
    "        return self.__name\n",
    "\n",
    "    def set_name(self, name):\n",
    "        self.__name = name\n",
    "\n",
    "person1 = Person(\"Alice\")\n",
    "print(person1.get_name())  # Output: Alice\n",
    "person1.set_name(\"Bob\")\n",
    "print(person1.get_name())  # Output: Bob\n",
    "```"
   ]
  },
  {
   "cell_type": "markdown",
   "id": "ca553ceb",
   "metadata": {},
   "source": [
    "#### That covers the basics of object-oriented programming in Python. By applying these concepts, you can create well-structured and reusable code. Keep practicing and exploring to deepen your understanding. Make sure to watch the following videos to get a deeper understanding.\n",
    "***NB:*** You can watch these videos for more info... Click on the images to watch the video.\n",
    "\n",
    "***[![Python Classes - OOP (Part-1) -- Python Programming for Engineers](http://img.youtube.com/vi/7oDmG6FZqq0/0.jpg)](http://www.youtube.com/watch?v=7oDmG6FZqq0 \"Python Classes - OOP (Part-1) -- Python Programming for Engineers\")\n",
    "[![Python Classes - OOP (Part-2) -- Python Programming for Engineers](http://img.youtube.com/vi/ZhgjTXhIAro/0.jpg)](http://www.youtube.com/watch?v=ZhgjTXhIAro \"Python Classes - OOP (Part-2) -- Python Programming for Engineers\")\n",
    "[![Python Classes - OOP (Part-2) -- Python Programming for Engineers](http://img.youtube.com/vi/Oz1UcYP9l7o/0.jpg)](http://www.youtube.com/watch?v=Oz1UcYP9l7o \"Python Classes - OOP (Part-2) -- Python Programming for Engineers\")\n",
    "[![Python Classes - OOP (Part-2) -- Python Programming for Engineers](http://img.youtube.com/vi/f5bJoBrV32g/0.jpg)](http://www.youtube.com/watch?v=f5bJoBrV32g \"Python Classes - OOP (Part-2) -- Python Programming for Engineers\")***"
   ]
  },
  {
   "cell_type": "markdown",
   "id": "aa320172",
   "metadata": {},
   "source": [
    "#### Course Project: \n",
    "***Follow this tutorial and create the Student MIS System\n",
    "[![Student MIS - OOP (Part-1) -- Python Programming for Engineers](http://img.youtube.com/vi/uCqZSBfZR7s/0.jpg)](http://www.youtube.com/watch?v=uCqZSBfZR7s \"Student MIS - OOP (Part-1) -- Python Programming for Engineers\")\n",
    "[![Student MIS - OOP (Part-2) -- Python Programming for Engineers](http://img.youtube.com/vi/deJg-jvOJDU/0.jpg)](http://www.youtube.com/watch?v=deJg-jvOJDU \"Student MIS - OOP (Part-2) -- Python Programming for Engineers\")\n",
    "[![Student MIS - OOP (Part-3) -- Python Programming for Engineers](http://img.youtube.com/vi/ZOi12iJFZ6I/0.jpg)](http://www.youtube.com/watch?v=ZOi12iJFZ6I \"Student MIS - OOP (Part-3) -- Python Programming for Engineers\")***\n",
    "***Upload all codes to a remote github repository***"
   ]
  },
  {
   "cell_type": "markdown",
   "id": "1dd1cfe3",
   "metadata": {},
   "source": [
    "***Kindly add answers to the following questions in your README.md file***\n",
    "* What is the event loop?\n",
    "* What is the function of app.exec()?"
   ]
  }
 ],
 "metadata": {
  "kernelspec": {
   "display_name": "Python 3 (ipykernel)",
   "language": "python",
   "name": "python3"
  },
  "language_info": {
   "codemirror_mode": {
    "name": "ipython",
    "version": 3
   },
   "file_extension": ".py",
   "mimetype": "text/x-python",
   "name": "python",
   "nbconvert_exporter": "python",
   "pygments_lexer": "ipython3",
   "version": "3.9.0"
  }
 },
 "nbformat": 4,
 "nbformat_minor": 5
}
