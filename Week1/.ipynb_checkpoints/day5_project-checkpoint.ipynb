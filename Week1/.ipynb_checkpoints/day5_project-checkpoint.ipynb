{
 "cells": [
  {
   "cell_type": "markdown",
   "id": "17134d74",
   "metadata": {},
   "source": [
    "## Day 5:\n",
    "#### Step 1: Course Project\n",
    "**3. Widget-Based Interface with Different Types of Widgets and Layouts**\n",
    "\n",
    "_Description:_\n",
    "\n",
    "    Develop a widget-based interface using PySide6 that incorporates various types of widgets, such as buttons, labels, and more. The widgets will be organized and arranged using layouts, ensuring a visually appealing and user-friendly interface.\n",
    "    The project should demonstrate the usage of various types of widgets and layouts in PySide6.\n",
    "    Feel free to go wild and create your project. The limit is your imagination.\n",
    "    \n",
    "***Upload all codes to a remote github repository***"
   ]
  }
 ],
 "metadata": {
  "kernelspec": {
   "display_name": "Python 3 (ipykernel)",
   "language": "python",
   "name": "python3"
  },
  "language_info": {
   "codemirror_mode": {
    "name": "ipython",
    "version": 3
   },
   "file_extension": ".py",
   "mimetype": "text/x-python",
   "name": "python",
   "nbconvert_exporter": "python",
   "pygments_lexer": "ipython3",
   "version": "3.9.0"
  }
 },
 "nbformat": 4,
 "nbformat_minor": 5
}
