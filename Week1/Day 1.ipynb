{
 "cells": [
  {
   "cell_type": "markdown",
   "id": "273dc493",
   "metadata": {},
   "source": [
    "# Day 1:  \n",
    "### Introduction to Git, setting up a GitHub account, initializing a repository\n",
    "\n",
    "---"
   ]
  },
  {
   "cell_type": "markdown",
   "id": "88b87233",
   "metadata": {},
   "source": [
    "> **Git** is a popular version control system that helps you ***manage and track changes*** to your codebase. It allows you to collaborate with others, maintain a history of your project, and easily revert to previous versions if needed. In this tutorial, we will cover the basics of Git, setting up a GitHub account, and initializing a repository."
   ]
  },
  {
   "cell_type": "markdown",
   "id": "fe752a17",
   "metadata": {},
   "source": [
    "### Step 1: Installing Git\n",
    "Visit the official [Git website](https://git-scm.com/) and download the appropriate version for your operating system.\n",
    "Run the installer and follow the on-screen instructions to complete the installation process."
   ]
  },
  {
   "cell_type": "markdown",
   "id": "a791db12",
   "metadata": {},
   "source": [
    "### Step 2: Configuring Git\n",
    "Open the command line or terminal on your computer.\n",
    "Set up your username by running the following command:\n",
    "\n",
    "> `git config --global user.name`***`Your_Name`***"
   ]
  },
  {
   "cell_type": "markdown",
   "id": "e470272e",
   "metadata": {},
   "source": [
    "Set up your email address by running the following command:\n",
    "\n",
    ">`git config --global user.email`***`your_email@example.com`***"
   ]
  },
  {
   "cell_type": "markdown",
   "id": "0f454301",
   "metadata": {},
   "source": [
    "### Step 3: Initializing a Repository\n",
    "Create a new directory on your computer for your project.\n",
    "Open the command line or terminal and navigate to the newly created directory using the **`cd`** command."
   ]
  },
  {
   "cell_type": "markdown",
   "id": "341a558a",
   "metadata": {},
   "source": [
    "Run the following command to initialize a new Git repository:\n",
    "\n",
    "> `git init`\n",
    "\n",
    "This will create a hidden .git folder in your project directory, which contains all the necessary files for version control."
   ]
  },
  {
   "cell_type": "markdown",
   "id": "4b1c639e",
   "metadata": {},
   "source": [
    "## Setting Up a GitHub Account\n",
    "---"
   ]
  },
  {
   "cell_type": "markdown",
   "id": "69b87e13",
   "metadata": {},
   "source": [
    "> **GitHub** is a web-based hosting service that provides Git repositories and collaboration tools. It allows you to store your Git repositories remotely and facilitates collaboration with others. In this part of the tutorial, we will guide you through creating a GitHub account and connecting it to your local Git repository."
   ]
  },
  {
   "cell_type": "markdown",
   "id": "3f03570c",
   "metadata": {},
   "source": [
    "### Step 1: Creating a GitHub Account"
   ]
  },
  {
   "cell_type": "markdown",
   "id": "27c39ad7",
   "metadata": {},
   "source": [
    "Visit the [GitHub website](https://github.com/) and click on the `Sign Up`.\n",
    "Follow the on-screen instructions to create a new account. You can choose either a free account or a paid plan depending on your needs."
   ]
  },
  {
   "cell_type": "markdown",
   "id": "2985d044",
   "metadata": {},
   "source": [
    "### Step 2: Creating a New Repository on GitHub\n",
    "**Log in** to your GitHub account.\n",
    "Click on the `New`.\n",
    "\n",
    "Provide a; \n",
    "* name for your repository,\n",
    "* brief description\n",
    "* choose whether you want it to be public or private.\n",
    "* **Optionally**, select the checkbox to initialize the repository with a `README` file."
   ]
  },
  {
   "cell_type": "markdown",
   "id": "442da98a",
   "metadata": {},
   "source": [
    "### Step 3: Connecting your Local Repository to GitHub\n",
    "\n",
    "On the GitHub repository page, you'll see a section titled:  \n",
    "`…or push an existing repository from the command line.`\n",
    "\n",
    "Copy the command listed under that section, which should look like this:\n",
    "\n",
    ">`git remote add origin`**`<repository-url>`**\n",
    "\n",
    "In your command line or terminal, \n",
    "* navigate to your local Git repository **if you're not already there**.\n",
    "* Paste the command \n",
    "* press `Enter`  \n",
    "\n",
    "***This sets up the connection between your local repository and the remote GitHub repository***"
   ]
  },
  {
   "cell_type": "markdown",
   "id": "d6544cfc",
   "metadata": {},
   "source": [
    "### Step 4: Pushing your Local Repository to GitHub\n",
    "After setting up the remote connection, you can push your local repository to GitHub by running the following command:\n",
    "> `git push -u origin master`\n",
    "\n",
    "***This command pushes your code to the remote repository and sets the default upstream branch.***\n",
    "\n",
    "\n",
    "> ***`NB: Enter your GitHub username and password when prompted.`***\n"
   ]
  },
  {
   "cell_type": "markdown",
   "id": "049b85f1",
   "metadata": {},
   "source": [
    "***NB:*** You can watch these videos for more info... Click on the images to watch the video.\n",
    "\n",
    "[![GIT TUTORIAL FOR BEGINNERS 1](http://img.youtube.com/vi/F1GTxuEdrW8/0.jpg)](http://www.youtube.com/watch?v=F1GTxuEdrW8 \"Git Tutorial for Beginners\")\n",
    "\n",
    "[![GIT TUTORIAL FOR BEGINNERS 2](http://img.youtube.com/vi/cTU7oN5gTcs/0.jpg)](http://www.youtube.com/watch?v=cTU7oN5gTcs \"Git Tutorial for Beginners\")"
   ]
  },
  {
   "cell_type": "markdown",
   "id": "fd3ae7b4",
   "metadata": {},
   "source": [
    "### Congratulations! You have successfully completed the introduction to Git, set up a GitHub account, and initialized a repository. You are now ready to start tracking changes, collaborating with others, and leveraging the power of Git for your projects."
   ]
  }
 ],
 "metadata": {
  "kernelspec": {
   "display_name": "Python 3 (ipykernel)",
   "language": "python",
   "name": "python3"
  },
  "language_info": {
   "codemirror_mode": {
    "name": "ipython",
    "version": 3
   },
   "file_extension": ".py",
   "mimetype": "text/x-python",
   "name": "python",
   "nbconvert_exporter": "python",
   "pygments_lexer": "ipython3",
   "version": "3.9.0"
  }
 },
 "nbformat": 4,
 "nbformat_minor": 5
}
