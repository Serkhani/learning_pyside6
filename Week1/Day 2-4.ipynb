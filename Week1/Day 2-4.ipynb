{
 "cells": [
  {
   "cell_type": "markdown",
   "id": "eccb5ac4",
   "metadata": {},
   "source": [
    "## Day 3: Getting Started with OOP\n",
    "\n",
    "> ***Object-oriented programming*** is a programming paradigm that organizes code into objects, which are instances of classes. It focuses on modeling real-world entities as objects, encapsulating data and behavior, and facilitating code reusability and maintainability."
   ]
  },
  {
   "cell_type": "markdown",
   "id": "c4a02d11",
   "metadata": {},
   "source": [
    "### Classes and Objects:\n",
    "> In Python, a class is defined using the ***`class`*** keyword. It serves as a blueprint for creating objects. An ***`object`*** is an instance of a class and represents a specific entity. Here's an example of a simple class and object:"
   ]
  },
  {
   "cell_type": "markdown",
   "id": "e96f856f",
   "metadata": {},
   "source": [
    "``` python\n",
    "class MyClass:\n",
    "    def __init__(self, name):\n",
    "        self.name = name\n",
    "\n",
    "    def greet(self):\n",
    "        print(f\"Hello, {self.name}!\")\n",
    "\n",
    "obj = MyClass(\"Alice\")\n",
    "obj.greet()  # Output: Hello, Alice!\n",
    "```"
   ]
  },
  {
   "cell_type": "markdown",
   "id": "6a1a4afe",
   "metadata": {},
   "source": [
    "### Class Constructors:\n",
    "The ***`__init__`*** method is a special method called a constructor. It is executed when an object is created from the class. It initializes the object's attributes. The self parameter refers to the instance of the object being created."
   ]
  },
  {
   "cell_type": "markdown",
   "id": "935654bc",
   "metadata": {},
   "source": [
    "### Class Attributes and Instance Attributes:\n",
    "***Class attributes*** are shared by all instances of a class, while instance attributes are specific to each object. They are defined within the class methods. ***Class attributes*** are accessed using the class name, and instance attributes are accessed using the self keyword."
   ]
  },
  {
   "cell_type": "markdown",
   "id": "aff2a8a8",
   "metadata": {},
   "source": [
    "```python \n",
    "class Car:\n",
    "    wheels = 4  # Class attribute\n",
    "\n",
    "    def __init__(self, make, model):\n",
    "        self.make = make  # Instance attribute\n",
    "        self.model = model  # Instance attribute\n",
    "\n",
    "car1 = Car(\"Honda\", \"Civic\")\n",
    "print(car1.make)  # Output: Honda\n",
    "print(car1.wheels)  # Output: 4\n",
    "```"
   ]
  },
  {
   "cell_type": "markdown",
   "id": "b52f2acc",
   "metadata": {},
   "source": [
    "### Class Methods:\n",
    "Class methods are defined within a class and operate on class attributes. They are decorated with the `@classmethod` [decorator](https://realpython.com/primer-on-python-decorators/) and receive the class itself as the first parameter, conventionally named `cls`."
   ]
  },
  {
   "cell_type": "markdown",
   "id": "690e27d6",
   "metadata": {},
   "source": [
    "``` python\n",
    "class Circle:\n",
    "    pi = 3.14159  # Class attribute\n",
    "\n",
    "    def __init__(self, radius):\n",
    "        self.radius = radius  # Instance attribute\n",
    "\n",
    "    def calculate_area(self):\n",
    "        return self.pi * (self.radius ** 2)\n",
    "\n",
    "    @classmethod\n",
    "    def print_pi(cls):\n",
    "        print(cls.pi)\n",
    "\n",
    "circle1 = Circle(5)\n",
    "print(circle1.calculate_area())  # Output: 78.53975\n",
    "Circle.print_pi()  # Output: 3.14159\n",
    "```"
   ]
  },
  {
   "cell_type": "markdown",
   "id": "d5201d7c",
   "metadata": {},
   "source": [
    "### Inheritance:\n",
    "> ***Inheritance*** allows creating a new class (child class) based on an existing class (parent class). The child class inherits the attributes and methods of the parent class and can override or extend them. It promotes code reuse and supports the \"is-a\" relationship."
   ]
  },
  {
   "cell_type": "markdown",
   "id": "4a6816c5",
   "metadata": {},
   "source": [
    "``` python \n",
    "\n",
    "class Animal:\n",
    "    def __init__(self, name):\n",
    "        self.name = name\n",
    "\n",
    "    def speak(self):\n",
    "        print(\"Generic animal sound\")\n",
    "\n",
    "class Dog(Animal):\n",
    "    def speak(self):\n",
    "        print(\"Woof!\")\n",
    "\n",
    "animal1 = Animal(\"Animal\")\n",
    "animal1.speak()  # Output: Generic animal sound\n",
    "\n",
    "dog1 = Dog(\"Buddy\")\n",
    "dog1.speak()  # Output: Woof!\n",
    "```"
   ]
  },
  {
   "cell_type": "markdown",
   "id": "8ea6633d",
   "metadata": {},
   "source": [
    "### Encapsulation:\n",
    "> ***Encapsulation*** is the practice of hiding internal details of an object and exposing only essential methods and attributes. It is achieved by marking attributes as private using the __ (double underscore) prefix. Private attributes can be accessed and modified using getter and setter methods.\n"
   ]
  },
  {
   "cell_type": "markdown",
   "id": "1838e184",
   "metadata": {},
   "source": [
    "``` python\n",
    "class Person:\n",
    "    def __init__(self, name):\n",
    "        self.__name = name  # Private attribute\n",
    "\n",
    "    def get_name(self):\n",
    "        return self.__name\n",
    "\n",
    "    def set_name(self, name):\n",
    "        self.__name = name\n",
    "\n",
    "person1 = Person(\"Alice\")\n",
    "print(person1.get_name())  # Output: Alice\n",
    "person1.set_name(\"Bob\")\n",
    "print(person1.get_name())  # Output: Bob\n",
    "```"
   ]
  },
  {
   "cell_type": "markdown",
   "id": "8eab9fc8",
   "metadata": {},
   "source": [
    "#### That covers the basics of object-oriented programming in Python. By applying these concepts, you can create well-structured and reusable code. Keep practicing and exploring to deepen your understanding. Make sure to watch the following videos to get a deeper understanding.\n",
    "***NB:*** You can watch these videos for more info... Click on the images to watch the video.\n",
    "\n",
    "***[![Python Classes - OOP (Part-1) -- Python Programming for Engineers](http://img.youtube.com/vi/7oDmG6FZqq0/0.jpg)](http://www.youtube.com/watch?v=7oDmG6FZqq0 \"Python Classes - OOP (Part-1) -- Python Programming for Engineers\")\n",
    "[![Python Classes - OOP (Part-2) -- Python Programming for Engineers](http://img.youtube.com/vi/ZhgjTXhIAro/0.jpg)](http://www.youtube.com/watch?v=ZhgjTXhIAro \"Python Classes - OOP (Part-2) -- Python Programming for Engineers\")\n",
    "[![Python Classes - OOP (Part-2) -- Python Programming for Engineers](http://img.youtube.com/vi/Oz1UcYP9l7o/0.jpg)](http://www.youtube.com/watch?v=Oz1UcYP9l7o \"Python Classes - OOP (Part-2) -- Python Programming for Engineers\")\n",
    "[![Python Classes - OOP (Part-2) -- Python Programming for Engineers](http://img.youtube.com/vi/f5bJoBrV32g/0.jpg)](http://www.youtube.com/watch?v=f5bJoBrV32g \"Python Classes - OOP (Part-2) -- Python Programming for Engineers\")***"
   ]
  },
  {
   "cell_type": "markdown",
   "id": "178eb273",
   "metadata": {},
   "source": [
    "#### Course Project: \n",
    "***Follow this tutorial and create the Student MIS System\n",
    "[![Student MIS - OOP (Part-1) -- Python Programming for Engineers](http://img.youtube.com/vi/uCqZSBfZR7s/0.jpg)](http://www.youtube.com/watch?v=uCqZSBfZR7s \"Student MIS - OOP (Part-1) -- Python Programming for Engineers\")\n",
    "[![Student MIS - OOP (Part-2) -- Python Programming for Engineers](http://img.youtube.com/vi/deJg-jvOJDU/0.jpg)](http://www.youtube.com/watch?v=deJg-jvOJDU \"Student MIS - OOP (Part-2) -- Python Programming for Engineers\")\n",
    "[![Student MIS - OOP (Part-3) -- Python Programming for Engineers](http://img.youtube.com/vi/ZOi12iJFZ6I/0.jpg)](http://www.youtube.com/watch?v=ZOi12iJFZ6I \"Student MIS - OOP (Part-3) -- Python Programming for Engineers\")***\n",
    "***Upload all codes to a remote github repository***"
   ]
  },
  {
   "cell_type": "markdown",
   "id": "a177d6e6",
   "metadata": {},
   "source": [
    "## Day 3: Basic PySide6 Features\n",
    "> ***PySide6*** is a Python binding for the Qt framework, which allows you to create graphical user interfaces (GUIs) for your applications. In this tutorial, we will explore some basic features of PySide6 and learn how to create a simple GUI application."
   ]
  },
  {
   "cell_type": "markdown",
   "id": "2c3270e8",
   "metadata": {},
   "source": [
    "#### Step 1: Installing PySide6\n",
    "Ensure you have Python installed on your system. You can download it from the official [Python website](https://www.python.org/) if needed.\n",
    "Open the command line or terminal and run the following command to install PySide6 using pip:\n",
    "> ***`pip install PySide6`***"
   ]
  },
  {
   "cell_type": "markdown",
   "id": "03cc70bc",
   "metadata": {},
   "source": [
    "#### Step 2: Creating a Basic PySide6 Application\n",
    "`Read pages`**`7-18`**`of the PySide6 book and follow the tutorial.`  \n",
    "\n",
    "_In the tutorial, you will be introduced to some basic object-oriented programming (OOP) concepts and enhance your PySide6 application._\n",
    "    \n",
    "***Upload all codes to a remote github repository***"
   ]
  },
  {
   "cell_type": "markdown",
   "id": "adaba74d",
   "metadata": {},
   "source": [
    "#### Step 3: Signals and Slots\n",
    "> ***Signals and slots*** are a fundamental concept in PySide6 that allow different components of your application to communicate with each other. In this tutorial, we will explore ***signals*** and ***slots*** and learn how to connect them to create interactive behavior in your GUI application.    \n",
    "\n",
    "| | |\n",
    "|:--------: | :--------: | \n",
    "|***Signals*** events emitted by objects when certain actions occur, such as a button click or a value change.|***Slots*** methods or functions that get executed in response to signals.|\n",
    "\n",
    "`Read pages`**`18-32`**`of the PySide6 book and follow the tutorial.` \n",
    "\n",
    "**Youtube video**\n",
    "***[![Python - PySide6 - Signals and slots](http://img.youtube.com/vi/54HqeEa5eo0/0.jpg)](http://www.youtube.com/watch?v=54HqeEa5eo0 \"Python - PySide6 - Signals and slots\")***"
   ]
  },
  {
   "cell_type": "markdown",
   "id": "b5bafa0c",
   "metadata": {},
   "source": [
    "#### Step 4: Widgets\n",
    "> ***Widgets*** are the building blocks of a GUI application. They represent various graphical elements, such as buttons, labels, text inputs, and more. In this part of the tutorial, we will learn about different types of widgets and how to use them in PySide6.\n",
    "\n",
    "`Read pages`**`32-65`**`of the PySide6 book and follow the tutorials.`\n",
    "\n",
    "**Youtube Playlist on widgets**  \n",
    "***[PySide6(Qt For Python) Widgets For Desktop Tutorials](https://youtube.com/playlist?list=PLQMs5svASiXN3xSynw-NbWDHKgTpVM9HP)***\n"
   ]
  },
  {
   "cell_type": "markdown",
   "id": "70107cef",
   "metadata": {},
   "source": [
    "## Day 4:\n",
    "#### Step 1: Course Project\n",
    "**1. Simple PySide6 Application with Signals and Slots**\n",
    "\n",
    "_Description:_\n",
    "\n",
    "    Create a simple application using PySide6 that demonstrates the usage of signals and slots. The application will have a button, and when clicked, it will perform a specific action, such as displaying a message, changing the color of a widget, or updating a counter.\n",
    "    The application window should appear with a label displaying the counter value and a button labelled \"Increment\". Each time the button is clicked, the counter value will be incremented by one, and the label will be updated accordingly.\n",
    "    Feel free to customize and enhance this project according to your requirements. You can add more functionality, incorporate additional widgets to suit your needs.\n",
    "    \n",
    "***Upload all codes to a remote github repository***"
   ]
  },
  {
   "cell_type": "markdown",
   "id": "2294c7bb",
   "metadata": {},
   "source": [
    "#### Step 2: Layouts\n",
    "> ***Layouts*** in PySide6 provide a way to organize and arrange widgets within a window or a container. In this tutorial, we will explore different types of layouts and learn how to use them effectively in PySide6.\n",
    "\n",
    "`Read pages`**`66-93`**`of the PySide6 book and follow the tutorials.`\n",
    "\n",
    "**Youtube video on layouts**  \n",
    "***[![PySide6 Tutorial Layouts - QVBoxLayout,QHBoxLayout,QGridLayout,QFormLayout](http://img.youtube.com/vi/Mmo0Lqj7oGk/0.jpg)](http://www.youtube.com/watch?v=Mmo0Lqj7oGk \"PySide6 Tutorial Layouts - QVBoxLayout,QHBoxLayout,QGridLayout,QFormLayout\")***\n"
   ]
  },
  {
   "cell_type": "markdown",
   "id": "315a7e41",
   "metadata": {},
   "source": [
    "#### Step 3: Actions, Toolbars and Menus\n",
    "> ***Actions, toolbars, and menus*** are essential components for creating interactive and user-friendly applications. In this tutorial, we will learn how to use actions, create toolbars, and add menus to your PySide6 application.\n",
    "\n",
    "***Youtube video on Actions, Toolbars and Menus***  \n",
    "`Not Available`: You must have already learnt something about them from the playlist on [widgets](#Step-4:-Widgets)\n"
   ]
  },
  {
   "cell_type": "markdown",
   "id": "8eb679a5",
   "metadata": {},
   "source": [
    "## Day 5:\n",
    "#### Step 1: Course Project\n",
    "**3. Widget-Based Interface with Different Types of Widgets and Layouts**\n",
    "\n",
    "_Description:_\n",
    "\n",
    "    Develop a widget-based interface using PySide6 that incorporates various types of widgets, such as buttons, labels, and more. The widgets will be organized and arranged using layouts, ensuring a visually appealing and user-friendly interface.\n",
    "    The project should demonstrate the usage of various types of widgets and layouts in PySide6.\n",
    "    Feel free to go wild and create your project. The limit is \n",
    "    \n",
    "***Upload all codes to a remote github repository***"
   ]
  },
  {
   "cell_type": "markdown",
   "id": "8335a813",
   "metadata": {},
   "source": [
    "***Kindly add answers to the following questions in your README.md file***\n",
    "* What is the event loop?\n",
    "* What is the function of app.exec()?"
   ]
  }
 ],
 "metadata": {
  "kernelspec": {
   "display_name": "Python 3 (ipykernel)",
   "language": "python",
   "name": "python3"
  },
  "language_info": {
   "codemirror_mode": {
    "name": "ipython",
    "version": 3
   },
   "file_extension": ".py",
   "mimetype": "text/x-python",
   "name": "python",
   "nbconvert_exporter": "python",
   "pygments_lexer": "ipython3",
   "version": "3.9.0"
  }
 },
 "nbformat": 4,
 "nbformat_minor": 5
}
