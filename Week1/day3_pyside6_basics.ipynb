{
 "cells": [
  {
   "cell_type": "markdown",
   "id": "ccfcae97",
   "metadata": {},
   "source": [
    "## Day 3: Basic PySide6 Features\n",
    "> ***PySide6*** is a Python binding for the Qt framework, which allows you to create graphical user interfaces (GUIs) for your applications. In this tutorial, we will explore some basic features of PySide6 and learn how to create a simple GUI application."
   ]
  },
  {
   "cell_type": "markdown",
   "id": "e62d9328",
   "metadata": {},
   "source": [
    "#### Step 1: Installing PySide6\n",
    "Ensure you have Python installed on your system. You can download it from the official [Python website](https://www.python.org/) if needed.\n",
    "Open the command line or terminal and run the following command to install PySide6 using pip:\n",
    "> ***`pip install PySide6`***"
   ]
  },
  {
   "cell_type": "markdown",
   "id": "93ac2f14",
   "metadata": {},
   "source": [
    "#### Step 2: Creating a Basic PySide6 Application\n",
    "`Read pages`**`7-18`**`of the PySide6 book and follow the tutorial.`  \n",
    "\n",
    "_In the tutorial, you will be introduced to some basic object-oriented programming (OOP) concepts and enhance your PySide6 application._\n",
    "    \n",
    "***Upload all codes to a remote github repository***"
   ]
  },
  {
   "cell_type": "markdown",
   "id": "2bef08ed",
   "metadata": {},
   "source": [
    "#### Step 3: Signals and Slots\n",
    "> ***Signals and slots*** are a fundamental concept in PySide6 that allow different components of your application to communicate with each other. In this tutorial, we will explore ***signals*** and ***slots*** and learn how to connect them to create interactive behavior in your GUI application.    \n",
    "\n",
    "| | |\n",
    "|:--------: | :--------: | \n",
    "|***Signals*** events emitted by objects when certain actions occur, such as a button click or a value change.|***Slots*** methods or functions that get executed in response to signals.|\n",
    "\n",
    "`Read pages`**`18-32`**`of the PySide6 book and follow the tutorial.` \n",
    "\n",
    "**Youtube video**\n",
    "***[![Python - PySide6 - Signals and slots](http://img.youtube.com/vi/54HqeEa5eo0/0.jpg)](http://www.youtube.com/watch?v=54HqeEa5eo0 \"Python - PySide6 - Signals and slots\")***"
   ]
  },
  {
   "cell_type": "markdown",
   "id": "6c856e6a",
   "metadata": {},
   "source": [
    "#### Step 4: Widgets\n",
    "> ***Widgets*** are the building blocks of a GUI application. They represent various graphical elements, such as buttons, labels, text inputs, and more. In this part of the tutorial, we will learn about different types of widgets and how to use them in PySide6.\n",
    "\n",
    "`Read pages`**`32-65`**`of the PySide6 book and follow the tutorials.`\n",
    "\n",
    "**Youtube Playlist on widgets**  \n",
    "***[PySide6(Qt For Python) Widgets For Desktop Tutorials](https://youtube.com/playlist?list=PLQMs5svASiXN3xSynw-NbWDHKgTpVM9HP)***\n"
   ]
  }
 ],
 "metadata": {
  "kernelspec": {
   "display_name": "Python 3 (ipykernel)",
   "language": "python",
   "name": "python3"
  },
  "language_info": {
   "codemirror_mode": {
    "name": "ipython",
    "version": 3
   },
   "file_extension": ".py",
   "mimetype": "text/x-python",
   "name": "python",
   "nbconvert_exporter": "python",
   "pygments_lexer": "ipython3",
   "version": "3.9.0"
  }
 },
 "nbformat": 4,
 "nbformat_minor": 5
}
