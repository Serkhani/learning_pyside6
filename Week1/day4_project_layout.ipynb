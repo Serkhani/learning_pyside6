{
 "cells": [
  {
   "cell_type": "markdown",
   "id": "d85fa0c8",
   "metadata": {},
   "source": [
    "## Day 4:\n",
    "#### Step 1: Course Project\n",
    "**2. Simple PySide6 Application with Signals and Slots**\n",
    "\n",
    "_Description:_\n",
    "\n",
    "    Create a simple application using PySide6 that demonstrates the usage of signals and slots. The application will have a button, and when clicked, it will perform a specific action, such as displaying a message, changing the color of a widget, or updating a counter.\n",
    "    The application window should appear with a label displaying the counter value and a button labelled \"Increment\". Each time the button is clicked, the counter value will be incremented by one, and the label will be updated accordingly.\n",
    "    Feel free to customize and enhance this project according to your requirements. You can add more functionality, incorporate additional widgets to suit your needs.\n",
    "    \n",
    "***Upload all codes to a remote github repository***"
   ]
  },
  {
   "cell_type": "markdown",
   "id": "fc8aad81",
   "metadata": {},
   "source": [
    "#### Step 2: Layouts\n",
    "> ***Layouts*** in PySide6 provide a way to organize and arrange widgets within a window or a container. In this tutorial, we will explore different types of layouts and learn how to use them effectively in PySide6.\n",
    "\n",
    "`Read pages`**`66-93`**`of the PySide6 book and follow the tutorials.`\n",
    "\n",
    "**Youtube video on layouts**  \n",
    "***[![PySide6 Tutorial Layouts - QVBoxLayout,QHBoxLayout,QGridLayout,QFormLayout](http://img.youtube.com/vi/Mmo0Lqj7oGk/0.jpg)](http://www.youtube.com/watch?v=Mmo0Lqj7oGk \"PySide6 Tutorial Layouts - QVBoxLayout,QHBoxLayout,QGridLayout,QFormLayout\")***\n"
   ]
  },
  {
   "cell_type": "markdown",
   "id": "f2a25f12",
   "metadata": {},
   "source": [
    "#### Step 3: Actions, Toolbars and Menus\n",
    "> ***Actions, toolbars, and menus*** are essential components for creating interactive and user-friendly applications. In this tutorial, we will learn how to use actions, create toolbars, and add menus to your PySide6 application.\n",
    "\n",
    "***Youtube video on Actions, Toolbars and Menus***  \n",
    "`Not Available`: You must have already learnt something about them from the playlist on [widgets](#Step-4:-Widgets)\n"
   ]
  }
 ],
 "metadata": {
  "kernelspec": {
   "display_name": "Python 3 (ipykernel)",
   "language": "python",
   "name": "python3"
  },
  "language_info": {
   "codemirror_mode": {
    "name": "ipython",
    "version": 3
   },
   "file_extension": ".py",
   "mimetype": "text/x-python",
   "name": "python",
   "nbconvert_exporter": "python",
   "pygments_lexer": "ipython3",
   "version": "3.9.0"
  }
 },
 "nbformat": 4,
 "nbformat_minor": 5
}
