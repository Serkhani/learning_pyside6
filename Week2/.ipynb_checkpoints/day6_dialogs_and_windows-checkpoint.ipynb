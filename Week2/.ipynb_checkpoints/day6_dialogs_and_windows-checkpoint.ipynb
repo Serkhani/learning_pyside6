{
 "cells": [
  {
   "cell_type": "markdown",
   "id": "e6c2979d",
   "metadata": {},
   "source": [
    "## Day 6:\n",
    "\n",
    "#### Step 1:  Dialogs\n",
    "> ***Dialogs*** are components of GUI applications that allow users to interact with your program by providing input, making choices, or displaying messages. In this tutorial, we will learn how to use dialogs in PySide6 to enhance user interaction.\n",
    "\n",
    "`Read pages` **`118-167`** `of the PySide6 book and follow the tutorial.` \n"
   ]
  },
  {
   "cell_type": "markdown",
   "id": "88e15649",
   "metadata": {},
   "source": [
    "#### **Importing the Dialogs Module**\n",
    "---\n",
    "Open your Python file that contains your PySide6 application code.\n",
    "Import the necessary module for dialogs by adding the following line at the beginning of your file:\n",
    "``` python \n",
    "from PySide6.QtWidgets import QApplication, QMainWindow, QDialog, QMessageBox, QInputDialog\n",
    "```"
   ]
  },
  {
   "cell_type": "markdown",
   "id": "5bedb975",
   "metadata": {},
   "source": [
    "\n",
    "#### Step 2: Displaying a Message Box\n",
    "\n",
    "Use the **QMessageBox** class to display a message box with information, warning, question, or critical icons.\n",
    "Create an instance of QMessageBox and call the appropriate static method, such as information(), warning(), question(), or critical(), as shown below:\n",
    "```python\n",
    "QMessageBox.information(self, \"Information\", \"This is an information message.\")\n",
    "QMessageBox.warning(self, \"Warning\", \"This is a warning message.\")\n",
    "QMessageBox.question(self, \"Question\", \"Do you want to proceed?\")\n",
    "QMessageBox.critical(self, \"Critical\", \"An error occurred!\")\n",
    "```"
   ]
  },
  {
   "cell_type": "markdown",
   "id": "0ad17211",
   "metadata": {},
   "source": [
    "#### Step 3: Getting User Input with Input Dialog\n",
    "Use the QInputDialog class to get user input in the form of text, numbers, or selections.\n",
    "Create an instance of QInputDialog and call the appropriate static method, such as getText(), getInt(), getItem(), as shown below:\n",
    "```python\n",
    "text, ok = QInputDialog.getText(self, \"Text Input\", \"Enter your name:\")\n",
    "number, ok = QInputDialog.getInt(self, \"Number Input\", \"Enter a number:\")\n",
    "item, ok = QInputDialog.getItem(self, \"Item Selection\", \"Choose an item:\", [\"Option 1\", \"Option 2\", \"Option 3\"])\n",
    "```\n"
   ]
  },
  {
   "cell_type": "markdown",
   "id": "8d5b49c2",
   "metadata": {},
   "source": [
    "**Youtube video**\n",
    "***[![QDialog, QMessageBox , Move to Second Window](http://img.youtube.com/vi/KuOZAwXedjw/0.jpg)](http://www.youtube.com/watch?v=KuOZAwXedjw \"QDialog, QMessageBox , Move to Second Window\")***"
   ]
  },
  {
   "cell_type": "markdown",
   "id": "3caf6832",
   "metadata": {},
   "source": [
    "#### Windows\n",
    "\n",
    "> In PySide6, windows serve as the primary containers for your application's GUI. In this tutorial, we will explore creating new windows, handling multiple windows, and managing window properties.\n",
    "\n",
    "**Step 1: Creating New Windows**\n",
    "\n",
    "Import the necessary modules for creating windows by adding the following line at the beginning of your Python file:\n",
    "\n",
    "```python\n",
    "from PySide6.QtWidgets import QApplication, QMainWindow, QDialog\n",
    "```\n",
    "\n",
    "`Read pages` **`168-179`** `of the PySide6 book and follow the tutorial.`\n",
    "\n",
    "Create a new window by subclassing QMainWindow or QDialog, depending on your needs:\n",
    "\n",
    "```python\n",
    "class MyWindow(QMainWindow):\n",
    "    def __init__(self):\n",
    "        super().__init__()\n",
    "        self.setWindowTitle(\"My Window\")\n",
    "        self.setGeometry(100, 100, 500, 400)\n",
    "\n",
    "class MyDialog(QDialog):\n",
    "    def __init__(self):\n",
    "        super().__init__()\n",
    "        self.setWindowTitle(\"My Dialog\")\n",
    "        self.setGeometry(200, 200, 300, 200)\n",
    "        \n",
    "```\n",
    "\n",
    "**Step 2: Handling Multiple Windows**\n",
    "\n",
    "Within your application, you can create multiple instances of QMainWindow or QDialog to handle multiple windows:\n",
    "\n",
    "```python\n",
    "window1 = MyWindow()\n",
    "window2 = MyWindow()\n",
    "```\n",
    "Show the windows using the show() method:\n",
    "\n",
    "```python\n",
    "window1.show()\n",
    "window2.show()\n",
    "```\n",
    "\n",
    "**Step 3: Managing Window Properties**\n",
    "\n",
    "You can customize the properties of windows, such as title, size, position, and more, by using methods provided by QMainWindow or QDialog:\n",
    "\n",
    "```python\n",
    "window.setWindowTitle(\"New Title\")\n",
    "window.setGeometry(300, 300, 600, 500)\n",
    "```\n",
    "\n",
    "**Youtube video**\n",
    "***[![PySide6 Tutorial - QT 6 For Python - Basic Window](http://img.youtube.com/vi/JL0H2xLdu2k/0.jpg)](http://www.youtube.com/watch?v=JL0H2xLdu2k \"PySide6 Tutorial - QT 6 For Python - Basic Window\")***\n",
    "\n",
    "Congratulations! You have learned how to use dialogs in PySide6 to display messages and get user input. Additionally, you have explored creating new windows, handling multiple windows, and managing window properties in PySide6. You can now utilize these concepts to create more interactive and feature-rich GUI applications."
   ]
  }
 ],
 "metadata": {
  "kernelspec": {
   "display_name": "Python 3 (ipykernel)",
   "language": "python",
   "name": "python3"
  },
  "language_info": {
   "codemirror_mode": {
    "name": "ipython",
    "version": 3
   },
   "file_extension": ".py",
   "mimetype": "text/x-python",
   "name": "python",
   "nbconvert_exporter": "python",
   "pygments_lexer": "ipython3",
   "version": "3.9.0"
  }
 },
 "nbformat": 4,
 "nbformat_minor": 5
}
