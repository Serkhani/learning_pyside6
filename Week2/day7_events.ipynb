{
 "cells": [
  {
   "cell_type": "markdown",
   "id": "eef244b3",
   "metadata": {},
   "source": [
    "## Day 7:\n",
    "\n",
    "#### Events: \n",
    "> ***Events*** are fundamental building blocks used for communication and interaction between different parts of a Qt application. Events allow objects to receive and respond to specific occurrences or changes within the application, such as mouse clicks, keyboard input, and window resizes. They are crucial for handling user input, updating the user interface, and managing application behavior. In PySide6, events are handled through event handlers, which are methods in classes that receive and process specific types of events. Event handlers are named with a specific naming convention, usually starting with \"event\" followed by the event type. \n",
    "`Read pages` **`180-189`** `of the PySide6 book and follow the tutorial.` "
   ]
  },
  {
   "cell_type": "markdown",
   "id": "783cb778",
   "metadata": {},
   "source": [
    "Example of events\n",
    "``` python \n",
    "def mousePressEvent(self, event):\n",
    "    # Event handler for mouse press events\n",
    "    pass\n",
    "\n",
    "def keyPressEvent(self, event):\n",
    "    # Event handler for key press events\n",
    "    pass\n",
    "\n",
    "def paintEvent(self, event):\n",
    "    # Event handler for paint events\n",
    "    pass\n",
    "```"
   ]
  },
  {
   "cell_type": "markdown",
   "id": "8c464b84",
   "metadata": {},
   "source": [
    "\n",
    "####  *Handling Events*\n",
    "\n",
    "To handle an event, override the appropriate event handler method in your widget or main window class.\n",
    "\n",
    "Some commonly used event handler methods include:\n",
    "\n",
    "**keyPressEvent:** Handles key press events.\n",
    "**mousePressEvent:** Handles mouse press events.\n",
    "**closeEvent:** Handles window close events.\n",
    "**resizeEvent:** Handles window resize events.\n",
    "and many more...\n",
    "\n",
    "Here's an example of overriding the keyPressEvent method to handle key press events:\n",
    "\n",
    "```python\n",
    "class MyWidget(QWidget):\n",
    "    def keyPressEvent(self, event):\n",
    "        if event.key() == Qt.Key_Escape:\n",
    "            self.close()\n",
    "```"
   ]
  },
  {
   "cell_type": "markdown",
   "id": "924dbdab",
   "metadata": {},
   "source": [
    "**Some resources for the events**\n",
    "This is for creating event filters: https://youtu.be/2Q8X3aRKPmY\n",
    "[PySide6 signals_slots_and_events](https://www.pythonguis.com/tutorials/pyside6-signals-slots-events/)  \n",
    "Qt documentation for all events: [QEvent](https://doc.qt.io/qtforpython-6/PySide6/QtCore/QEvent.html)"
   ]
  }
 ],
 "metadata": {
  "kernelspec": {
   "display_name": "Python 3 (ipykernel)",
   "language": "python",
   "name": "python3"
  },
  "language_info": {
   "codemirror_mode": {
    "name": "ipython",
    "version": 3
   },
   "file_extension": ".py",
   "mimetype": "text/x-python",
   "name": "python",
   "nbconvert_exporter": "python",
   "pygments_lexer": "ipython3",
   "version": "3.9.0"
  }
 },
 "nbformat": 4,
 "nbformat_minor": 5
}
