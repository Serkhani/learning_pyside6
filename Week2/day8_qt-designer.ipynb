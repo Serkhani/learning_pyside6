{
 "cells": [
  {
   "cell_type": "markdown",
   "id": "91a2c8c6",
   "metadata": {},
   "source": [
    "## Day 12: Qt Designer:\n",
    "\n",
    "#### Qt Designer:\n",
    "> ***Qt Designer***is a powerful visual editor that allows you to design and create GUI layouts for your PySide6 applications without writing code. In this tutorial, we will explore Qt Designer and learn how to integrate the designed UI with your PySide6 code.\n",
    "\n",
    "`Read pages` **`190-225`** `of the PySide6 book and follow the tutorial.` "
   ]
  },
  {
   "cell_type": "markdown",
   "id": "0383ca52",
   "metadata": {},
   "source": [
    "#### **Launching Qt Designer**\n",
    "---\n",
    "Ensure that you have Qt Designer installed on your system.\n",
    "Open Qt Designer either by running it from the command line or using a development environment that provides integration with Qt Designer(ie: QtCreator)."
   ]
  },
  {
   "cell_type": "markdown",
   "id": "69d0b156",
   "metadata": {},
   "source": [
    "#### **Designing the UI**\n",
    "---\n",
    "\n",
    "Use Qt Designer's drag-and-drop interface to create the desired GUI layout for your application.\n",
    "Add widgets, adjust their properties, and arrange them using layouts."
   ]
  },
  {
   "cell_type": "markdown",
   "id": "77ace02d",
   "metadata": {},
   "source": [
    "#### **Saving the UI\t**\n",
    "---\n",
    "Once you have designed the UI, save it as a .ui file.\n",
    "This file contains the XML representation of your UI design."
   ]
  },
  {
   "cell_type": "markdown",
   "id": "2ecd9739",
   "metadata": {},
   "source": [
    "#### **Integrating with PySide6 Code**\n",
    "---\n",
    "In your PySide6 code, import the necessary module to load the UI file:\n",
    "\n",
    "```python\n",
    "from PySide6.QtWidgets import QApplication, QMainWindow, QWidget\n",
    "from PySide6.QtUiTools import QUiLoader\n",
    "```\n",
    "\n",
    "Load the UI file using QUiLoader:\n",
    "```python\n",
    "app = QApplication([])\n",
    "loader = QUiLoader()\n",
    "ui_file = QFile(\"path_to_ui_file.ui\")\n",
    "ui_file.open(QFile.ReadOnly)\n",
    "window = loader.load(ui_file)\n",
    "ui_file.close()\n",
    "```\n",
    "Set the loaded UI as the main widget or central widget of your main window:\n",
    "\n",
    "```python \n",
    "main_window.setCentralWidget(window)\n",
    "```\n",
    "\n",
    "Run your application and observe the UI created in Qt Designer."
   ]
  },
  {
   "cell_type": "markdown",
   "id": "b6105ae3",
   "metadata": {},
   "source": [
    "Note: You can also convert the .ui file to a Python file using the pyside6-uic tool to directly include the UI code in your Python file.\n",
    "```bash\n",
    "pyside6-uic path_to_ui_file.ui -o path_to_output_python_file.py\n",
    "```"
   ]
  },
  {
   "cell_type": "markdown",
   "id": "a78cb603",
   "metadata": {},
   "source": [
    "**Youtube playlist**  \n",
    "follow the videos in this playlist for more details  \n",
    "https://youtube.com/playlist?list=PLYf4Vz9V1ESrVD_NMDlwRjgo8jn2UNEND\n",
    "\n",
    "\n",
    "***[![Qt Designer - create application GUI](http://img.youtube.com/vi/vde95l737Pl/0.jpg)](http://www.youtube.com/watch?v=vde95l737Pl \"Qt Designer - create application GUI\")***\n"
   ]
  },
  {
   "cell_type": "markdown",
   "id": "e092c43b",
   "metadata": {},
   "source": [
    "Congratulations! You have learned how to handle events in PySide6 to respond to user interactions and system events. Additionally, you have explored Qt Designer and learned how to integrate the designed UI with your PySide6 code. These skills will enable you to create interactive and visually appealing GUI applications more efficiently."
   ]
  }
 ],
 "metadata": {
  "kernelspec": {
   "display_name": "Python 3 (ipykernel)",
   "language": "python",
   "name": "python3"
  },
  "language_info": {
   "codemirror_mode": {
    "name": "ipython",
    "version": 3
   },
   "file_extension": ".py",
   "mimetype": "text/x-python",
   "name": "python",
   "nbconvert_exporter": "python",
   "pygments_lexer": "ipython3",
   "version": "3.9.0"
  }
 },
 "nbformat": 4,
 "nbformat_minor": 5
}
